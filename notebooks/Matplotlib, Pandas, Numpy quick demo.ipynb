{
 "cells": [
  {
   "cell_type": "markdown",
   "metadata": {},
   "source": [
    "Каноническое уравнение параболы"
   ]
  },
  {
   "cell_type": "markdown",
   "metadata": {},
   "source": [
    "$y = ax^2 + bx + c$"
   ]
  },
  {
   "cell_type": "code",
   "execution_count": 1,
   "metadata": {},
   "outputs": [],
   "source": [
    "%matplotlib inline\n",
    "import numpy as np\n",
    "import matplotlib.pyplot as plt"
   ]
  },
  {
   "cell_type": "markdown",
   "metadata": {},
   "source": [
    "Сперва определим простую функцию и диапазон входных значений (х координат) от 0 до 10б возьмем 200 точек"
   ]
  },
  {
   "cell_type": "code",
   "execution_count": 29,
   "metadata": {},
   "outputs": [
    {
     "data": {
      "text/plain": [
       "list"
      ]
     },
     "execution_count": 29,
     "metadata": {},
     "output_type": "execute_result"
    }
   ],
   "source": [
    "def f(x, a, b, c):\n",
    "    return a*x**2 + b*x + c\n",
    "\n",
    "x = np.linspace(-10, 10, 20)\n",
    "a = 3 # a ≠ 0\n",
    "b = -5\n",
    "c = 7\n",
    "y = f(x, a, b, c)"
   ]
  },
  {
   "cell_type": "code",
   "execution_count": 32,
   "metadata": {},
   "outputs": [
    {
     "name": "stdout",
     "output_type": "stream",
     "text": [
      "            x           y\n",
      "0  -10.000000  357.000000\n",
      "1   -8.947368  291.903047\n",
      "2   -7.894737  233.454294\n",
      "3   -6.842105  181.653740\n",
      "4   -5.789474  136.501385\n",
      "5   -4.736842   97.997230\n",
      "6   -3.684211   66.141274\n",
      "7   -2.631579   40.933518\n",
      "8   -1.578947   22.373961\n",
      "9   -0.526316   10.462604\n",
      "10   0.526316    5.199446\n",
      "11   1.578947    6.584488\n",
      "12   2.631579   14.617729\n",
      "13   3.684211   29.299169\n",
      "14   4.736842   50.628809\n",
      "15   5.789474   78.606648\n",
      "16   6.842105  113.232687\n",
      "17   7.894737  154.506925\n",
      "18   8.947368  202.429363\n",
      "19  10.000000  257.000000\n"
     ]
    }
   ],
   "source": [
    "from pandas import DataFrame\n",
    "\n",
    "df = DataFrame({'x':x, 'y':y});\n",
    "print(df)"
   ]
  },
  {
   "cell_type": "markdown",
   "metadata": {},
   "source": [
    "А теперь напечатаем график этой функции"
   ]
  },
  {
   "cell_type": "code",
   "execution_count": 25,
   "metadata": {},
   "outputs": [
    {
     "data": {
      "image/png": "[encoded data removed]",
      "text/plain": [
       "<Figure size 432x288 with 1 Axes>"
      ]
     },
     "metadata": {
      "needs_background": "light"
     },
     "output_type": "display_data"
    }
   ],
   "source": [
    "plt.plot(x, y, lw=2)\n",
    "plt.axis([-12, 12, 0, 140])\n",
    "plt.fill_between(x, 0, y, facecolor='yellow', alpha=0.4)\n",
    "plt.text(0, 100,r\"$y = ax^2+bx+c$\", horizontalalignment='center', fontsize=20);"
   ]
  },
  {
   "cell_type": "code",
   "execution_count": null,
   "metadata": {},
   "outputs": [],
   "source": []
  }
 ],
 "metadata": {
  "kernelspec": {
   "display_name": "Python 3",
   "language": "python",
   "name": "python3"
  },
  "language_info": {
   "codemirror_mode": {
    "name": "ipython",
    "version": 3
   },
   "file_extension": ".py",
   "mimetype": "text/x-python",
   "name": "python",
   "nbconvert_exporter": "python",
   "pygments_lexer": "ipython3",
   "version": "3.7.3"
  }
 },
 "nbformat": 4,
 "nbformat_minor": 2
}
