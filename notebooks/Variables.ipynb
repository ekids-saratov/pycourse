{
 "cells": [
  {
   "cell_type": "markdown",
   "metadata": {},
   "source": [
    "## В Python все переменные является Объектами\n",
    "\n",
    "Каждый раз при объявлении переменной в оперативной памяти - будем называть её кучей - создается объект, содержащий значение этой переменной. \n",
    "\n",
    "Переменные из кода программы ссылаются на объекты в куче,\n",
    "если на объект в куче не ссылается ни одна переменная, то он подлежит удалению *сборщиком мусора*.\n",
    "\n",
    "Переменные могут принимать различные значения\n",
    " - число\n",
    " - буква/символ\n",
    " - строка\n",
    " - булево значение - правда/True или ложь/False\n",
    " - другие объекты - например дата"
   ]
  },
  {
   "cell_type": "code",
   "execution_count": 28,
   "metadata": {},
   "outputs": [
    {
     "data": {
      "text/plain": [
       "1"
      ]
     },
     "execution_count": 28,
     "metadata": {},
     "output_type": "execute_result"
    }
   ],
   "source": [
    "число = 1\n",
    "число"
   ]
  },
  {
   "cell_type": "code",
   "execution_count": 29,
   "metadata": {},
   "outputs": [
    {
     "data": {
      "text/plain": [
       "'Я'"
      ]
     },
     "execution_count": 29,
     "metadata": {},
     "output_type": "execute_result"
    }
   ],
   "source": [
    "буква = 'А'\n",
    "буква"
   ]
  },
  {
   "cell_type": "code",
   "execution_count": 33,
   "metadata": {},
   "outputs": [
    {
     "data": {
      "text/plain": [
       "'Здравствуй Python'"
      ]
     },
     "execution_count": 33,
     "metadata": {},
     "output_type": "execute_result"
    }
   ],
   "source": [
    "предложение = 'Здравствуй Python'\n",
    "предложение"
   ]
  },
  {
   "cell_type": "markdown",
   "metadata": {},
   "source": [
    "Можно использовать **\"двойные кавычки\"** или **'одинарные'** не смешивая"
   ]
  },
  {
   "cell_type": "code",
   "execution_count": 34,
   "metadata": {},
   "outputs": [
    {
     "data": {
      "text/plain": [
       "True"
      ]
     },
     "execution_count": 34,
     "metadata": {},
     "output_type": "execute_result"
    }
   ],
   "source": [
    "правдаИлиЛожь = True\n",
    "правдаИлиЛожь"
   ]
  },
  {
   "cell_type": "code",
   "execution_count": 35,
   "metadata": {},
   "outputs": [
    {
     "data": {
      "text/plain": [
       "'Mon Oct 28 10:54:05 2019'"
      ]
     },
     "execution_count": 35,
     "metadata": {},
     "output_type": "execute_result"
    }
   ],
   "source": [
    "import time \n",
    "сегодня = time.ctime()\n",
    "сегодня"
   ]
  },
  {
   "cell_type": "markdown",
   "metadata": {},
   "source": [
    "Переменные лучше называть латинскими буквами чтоб избежать затруднений с **кодировками** символов кириллицы\n"
   ]
  },
  {
   "cell_type": "code",
   "execution_count": null,
   "metadata": {},
   "outputs": [],
   "source": [
    "learn = True"
   ]
  }
 ],
 "metadata": {
  "kernelspec": {
   "display_name": "Python 3",
   "language": "python",
   "name": "python3"
  },
  "language_info": {
   "codemirror_mode": {
    "name": "ipython",
    "version": 3
   },
   "file_extension": ".py",
   "mimetype": "text/x-python",
   "name": "python",
   "nbconvert_exporter": "python",
   "pygments_lexer": "ipython3",
   "version": "3.7.3"
  }
 },
 "nbformat": 4,
 "nbformat_minor": 2
}
