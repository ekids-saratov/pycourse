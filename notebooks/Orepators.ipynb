{
 "cells": [
  {
   "cell_type": "markdown",
   "metadata": {},
   "source": [
    "## **Операторы** \n",
    "Используются вместе с переменными чтоб описывать последовательность операций, необходимых для выполнения программы. \n",
    "\n",
    "Можно называеть такую последовательность операций - **алгоритмом**.\n",
    "\n",
    "Они бывают:\n",
    "- Арифметические\n",
    "- Логические\n",
    "- Условные\n",
    "- Циклические"
   ]
  },
  {
   "cell_type": "markdown",
   "metadata": {},
   "source": [
    "## Арифметические \n",
    "\n",
    "Применяются для чисел\n",
    "- сложение +\n",
    "- вычитание -\n",
    "- умножение *\n",
    "- деление /\n",
    "- остаток от деления %\n",
    "- возведение в степень **\n",
    "\n",
    "NB: сложение также используется для склеивания строк, это называется конкатенация\n",
    "\n",
    "**(Круглые Скобки)** используются для расставления приоритета операций\n"
   ]
  },
  {
   "cell_type": "code",
   "execution_count": 21,
   "metadata": {},
   "outputs": [
    {
     "data": {
      "text/plain": [
       "0.03331961349248348"
      ]
     },
     "execution_count": 21,
     "metadata": {},
     "output_type": "execute_result"
    }
   ],
   "source": [
    "x = (13 + 4) / ((1.53 * 357) - 6 **2) + 16 % 2\n",
    "x"
   ]
  },
  {
   "cell_type": "markdown",
   "metadata": {},
   "source": [
    "## Логические\n",
    "\n",
    "Булева алгебра:\n",
    "- and логическое И\n",
    "- or  логическое ИЛИ\n",
    "- not логическое НЕ\n",
    "\n",
    "Операторы сравнения:\n",
    "- > больше\n",
    "- < меньше\n",
    "- >= больше или равно (не меньше)\n",
    "- <= меньшне или равно (не больше)\n",
    "- == равно (эквивалентно)\n",
    "- != не равно"
   ]
  },
  {
   "cell_type": "code",
   "execution_count": 27,
   "metadata": {},
   "outputs": [
    {
     "data": {
      "text/plain": [
       "True"
      ]
     },
     "execution_count": 27,
     "metadata": {},
     "output_type": "execute_result"
    }
   ],
   "source": [
    "is_it_true = (3 * 4 > 10) and (5 + 5 >= 10) or (2 * 2 == 4) and not False\n",
    "is_it_true"
   ]
  },
  {
   "cell_type": "markdown",
   "metadata": {},
   "source": [
    "## Условные\n",
    "\n",
    "**if** Условие: / **if** Условие: ... **else**:"
   ]
  },
  {
   "cell_type": "code",
   "execution_count": 32,
   "metadata": {},
   "outputs": [
    {
     "data": {
      "text/plain": [
       "'shining'"
      ]
     },
     "execution_count": 32,
     "metadata": {},
     "output_type": "execute_result"
    }
   ],
   "source": [
    "dayOfWeek = 'Sunday'\n",
    "if dayOfWeek == 'Sunday':\n",
    "    sun = 'shining'\n",
    "sun"
   ]
  },
  {
   "cell_type": "code",
   "execution_count": 31,
   "metadata": {},
   "outputs": [
    {
     "data": {
      "text/plain": [
       "False"
      ]
     },
     "execution_count": 31,
     "metadata": {},
     "output_type": "execute_result"
    }
   ],
   "source": [
    "x = -2\n",
    "if x > 0:\n",
    "    xIsPositive = True\n",
    "else:\n",
    "    xIsPositive = False\n",
    "xIsPositive"
   ]
  },
  {
   "cell_type": "markdown",
   "metadata": {},
   "source": [
    "## Циклические\n",
    "\n",
    "**while** Условие:"
   ]
  },
  {
   "cell_type": "code",
   "execution_count": 39,
   "metadata": {},
   "outputs": [
    {
     "name": "stdout",
     "output_type": "stream",
     "text": [
      "0\n",
      "3\n",
      "6\n",
      "9\n",
      "12\n"
     ]
    }
   ],
   "source": [
    "i = 0\n",
    "while i < 15:\n",
    "    print(i)\n",
    "    i = i + 3"
   ]
  },
  {
   "cell_type": "markdown",
   "metadata": {},
   "source": [
    "**for** Переменная **in** Исчесляемое: "
   ]
  },
  {
   "cell_type": "code",
   "execution_count": 38,
   "metadata": {},
   "outputs": [
    {
     "name": "stdout",
     "output_type": "stream",
     "text": [
      "1\n",
      "4\n",
      "9\n",
      "16\n"
     ]
    }
   ],
   "source": [
    "for i in range(1,5):\n",
    "    print(i*i)"
   ]
  },
  {
   "cell_type": "markdown",
   "metadata": {},
   "source": [
    "**Исчисляемое** - Объект хранящий набор перечислимых объектов:\n",
    "- Диапазон чисел\n",
    "- Строка - это массив букв,\n",
    "- Список или Множество объектов\n",
    "- Словарь пар ключ/значение\n"
   ]
  },
  {
   "cell_type": "code",
   "execution_count": 41,
   "metadata": {},
   "outputs": [
    {
     "name": "stdout",
     "output_type": "stream",
     "text": [
      "q, Q\n",
      "w, W\n",
      "e, E\n",
      "r, R\n",
      "t, T\n",
      "y, Y\n"
     ]
    }
   ],
   "source": [
    "# Строка может быть представлена как массив букв который можно перечислить\n",
    "for ch in 'QWERTY':\n",
    "    print(ch.lower() + ', ' + ch)"
   ]
  },
  {
   "cell_type": "code",
   "execution_count": 49,
   "metadata": {},
   "outputs": [
    {
     "name": "stdout",
     "output_type": "stream",
     "text": [
      "MONDAY\n",
      "TUSDAY\n",
      "WEDNESDAY\n",
      "THURSDAY\n",
      "FRIDAY\n",
      "SATURDAY\n",
      "SUNDAY\n",
      "MONDAY\n"
     ]
    }
   ],
   "source": [
    "# В квадратных скобках задается список объектов. \n",
    "# Список или еще его называют Лист может содержать дубликаты. В этой неделе два понедельника\n",
    "for day in ['MONDAY','TUSDAY', 'WEDNESDAY', 'THURSDAY', 'FRIDAY', 'SATURDAY', 'SUNDAY', 'MONDAY']:\n",
    "    print(day)"
   ]
  },
  {
   "cell_type": "code",
   "execution_count": 48,
   "metadata": {},
   "outputs": [
    {
     "name": "stdout",
     "output_type": "stream",
     "text": [
      "orange\n",
      "banana\n",
      "apple\n"
     ]
    }
   ],
   "source": [
    "# В фигурных скобках определяется Множество - набор уникальных объектов.\n",
    "# В этом примере Множество фруктов содержит только одно яблоко\n",
    "for fruit in {'apple', 'banana', 'orange', 'apple'}:\n",
    "    print(fruit)"
   ]
  },
  {
   "cell_type": "code",
   "execution_count": 60,
   "metadata": {},
   "outputs": [
    {
     "name": "stdout",
     "output_type": "stream",
     "text": [
      " x 1\n",
      " y 2\n",
      " z 5\n"
     ]
    }
   ],
   "source": [
    "# Словари задаются в фигурных скобках перечислением пар ключ:значение \n",
    "# символ [двоеточия] является разделителем ключа и значения, [запятая] разделяет пары друг от друга\n",
    "dict = {'x':1, 'y':2, 'z':5}\n",
    "for key, value in dict.items():\n",
    "    print('key:' + str(key) + ' value:' + str(value))"
   ]
  },
  {
   "cell_type": "code",
   "execution_count": null,
   "metadata": {},
   "outputs": [],
   "source": []
  }
 ],
 "metadata": {
  "kernelspec": {
   "display_name": "Python 3",
   "language": "python",
   "name": "python3"
  },
  "language_info": {
   "codemirror_mode": {
    "name": "ipython",
    "version": 3
   },
   "file_extension": ".py",
   "mimetype": "text/x-python",
   "name": "python",
   "nbconvert_exporter": "python",
   "pygments_lexer": "ipython3",
   "version": "3.7.3"
  }
 },
 "nbformat": 4,
 "nbformat_minor": 2
}
